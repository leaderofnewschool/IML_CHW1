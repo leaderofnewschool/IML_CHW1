{
 "cells": [
  {
   "cell_type": "markdown",
   "metadata": {
    "id": "c7wdMyNNzf49"
   },
   "source": [
    "<h1 align=\"center\">An Introduction to Machine Learning - 25737</h1>\n",
    "<h4 align=\"center\">Dr. Sajjad Amini</h4>\n",
    "<h4 align=\"center\">Sharif University of Technology, Spring 2023</h4>\n",
    "\n",
    "# Problem Set 01\n",
    "\n",
    "Welcome to your first assignment. This exercise gives you a brief introduction to Python. \n",
    "\n",
    "\n"
   ]
  },
  {
   "cell_type": "markdown",
   "metadata": {
    "id": "Q-qsTRYU5ay5"
   },
   "source": [
    "STUDENT NAME: Danial Ayati\n",
    "\n",
    "STUDENT ID: 99101246"
   ]
  },
  {
   "cell_type": "markdown",
   "metadata": {
    "id": "lyOsKSguzf5A"
   },
   "source": [
    "## About iPython Notebooks ##\n",
    "\n",
    "iPython Notebooks are interactive coding environments embedded in a webpage. You will be using iPython notebooks in this class. You only need to write code between the ### START CODE HERE ### and ### END CODE HERE ### comments. After writing your code, you can run the cell by either pressing \"SHIFT\"+\"ENTER\" or by clicking on \"Run Cell\" (denoted by a play symbol) in the upper bar of the notebook. \n",
    "\n",
    "**Exercise**: Set test to `\"Hello World\"` in the cell below to print \"Hello World\" and run the two cells below."
   ]
  },
  {
   "cell_type": "code",
   "execution_count": 1,
   "metadata": {
    "id": "cVMoOWUlzf5A"
   },
   "outputs": [
    {
     "name": "stdout",
     "output_type": "stream",
     "text": [
      "Hello World\n"
     ]
    }
   ],
   "source": [
    "test = \"Hello World\"\n",
    "print (test)"
   ]
  },
  {
   "cell_type": "markdown",
   "metadata": {
    "id": "ZdmzMwNpzf5B"
   },
   "source": [
    "# 1.\n",
    ">What are the lengths of the following lists and strings below? Fill in the variable `lengths` with your predictions. (Try to make a prediction for each list *without* just calling `len()` on it.)"
   ]
  },
  {
   "cell_type": "code",
   "execution_count": 2,
   "metadata": {
    "id": "Yh3d2hZ4zf5C"
   },
   "outputs": [],
   "source": [
    "a = [1, 2, 3]\n",
    "b = [1, [2, 3]]\n",
    "c = []\n",
    "d = [1, 2, 3][1:]\n",
    "e = 'it\\'s ok'\n",
    "f = \"\"\n",
    "g = \"\"\"hey\"\"\"\n",
    "h = '\\n'\n",
    "\n",
    "\n",
    "lengths = [3,2,0,2,7,0,3,1]"
   ]
  },
  {
   "cell_type": "markdown",
   "metadata": {
    "id": "dMxFzKopzf5C"
   },
   "source": [
    "# 2. \n",
    ">Swap the values to which a and b refer."
   ]
  },
  {
   "cell_type": "code",
   "execution_count": 3,
   "metadata": {
    "id": "HXlpbPVYzf5C"
   },
   "outputs": [
    {
     "name": "stdout",
     "output_type": "stream",
     "text": [
      "[3, 2, 1]\n",
      "[1, 2, 3]\n"
     ]
    }
   ],
   "source": [
    "a = [1, 2, 3]\n",
    "b = [3, 2, 1]\n",
    "\n",
    "for i in range(3):\n",
    "    swapper = a[i]\n",
    "    a[i] = b[i]\n",
    "    b[i] = swapper   \n",
    "\n",
    "print(a)\n",
    "print(b)"
   ]
  },
  {
   "cell_type": "markdown",
   "metadata": {
    "id": "igr3m4pXzf5C"
   },
   "source": [
    "# 3. \n",
    ">Which of the two variables below has the smallest absolute value? Use Python's built-in functions."
   ]
  },
  {
   "cell_type": "code",
   "execution_count": 4,
   "metadata": {
    "id": "tAy0qBDezf5C"
   },
   "outputs": [
    {
     "name": "stdout",
     "output_type": "stream",
     "text": [
      "5\n"
     ]
    }
   ],
   "source": [
    "x = -10\n",
    "y = 5\n",
    "\n",
    "abs_x = abs(x)\n",
    "abs_y = abs(y)\n",
    "\n",
    "if (abs_x > abs_y):\n",
    "    smallest_abs = abs_y\n",
    "else:\n",
    "    smallest_abs = abs_x\n",
    "\n",
    "print(smallest_abs)"
   ]
  },
  {
   "cell_type": "markdown",
   "metadata": {
    "id": "-55kY-Cqzf5C"
   },
   "source": [
    "# 4. \n",
    "\n",
    "> A simple exercise! Run the cell below and try to explain the results for yourself:\n",
    "\n"
   ]
  },
  {
   "cell_type": "code",
   "execution_count": 5,
   "metadata": {
    "id": "_dpAa1Q4zf5D"
   },
   "outputs": [
    {
     "name": "stdout",
     "output_type": "stream",
     "text": [
      "1.0\n",
      "0.0\n",
      "1.0\n"
     ]
    }
   ],
   "source": [
    "print( 1.0 + 1.0 - 1.0 )\n",
    "print( 1.0 + 1.0e20 - 1.0e20 )\n",
    "print( 1.0e20 - 1.0e20 + 1 )"
   ]
  },
  {
   "cell_type": "markdown",
   "metadata": {
    "id": "3G2-lTfDzf5D"
   },
   "source": [
    "# 5.\n",
    ">Many programming languages have [`sign`](https://en.wikipedia.org/wiki/Sign_function) available as a built-in function. Python doesn't, but we can define our own! \n",
    "In the cell below, define a function called `sign` which takes a numerical argument and returns -1 if it's negative, 1 if it's positive, and 0 if it's 0."
   ]
  },
  {
   "cell_type": "code",
   "execution_count": 6,
   "metadata": {
    "id": "ASICcFwYzf5D"
   },
   "outputs": [
    {
     "name": "stdout",
     "output_type": "stream",
     "text": [
      "1\n",
      "-1\n",
      "0\n"
     ]
    }
   ],
   "source": [
    "def sign(x):\n",
    "    if x > 0:\n",
    "        return 1\n",
    "    elif x==0:\n",
    "        return 0\n",
    "    else:\n",
    "        return -1\n",
    "    pass\n",
    "\n",
    "\n",
    "print(sign(2))\n",
    "print(sign(-2))\n",
    "print(sign(0))"
   ]
  },
  {
   "cell_type": "markdown",
   "metadata": {
    "id": "6on-t1f0zf5D"
   },
   "source": [
    "# 6. \n",
    ">Complete the body of the following function according to its docstring.\n",
    "\n",
    "HINT: Python has a built-in function `round`."
   ]
  },
  {
   "cell_type": "code",
   "execution_count": 7,
   "metadata": {
    "id": "VINxi-ngzf5D"
   },
   "outputs": [
    {
     "data": {
      "text/plain": [
       "10.0"
      ]
     },
     "execution_count": 7,
     "metadata": {},
     "output_type": "execute_result"
    }
   ],
   "source": [
    "def round_to_two_places(num):\n",
    "    return round(num,2)\n",
    "    pass\n",
    "\n",
    "round_to_two_places(9.9999)"
   ]
  },
  {
   "cell_type": "markdown",
   "metadata": {
    "id": "5FtTkgU6zf5D"
   },
   "source": [
    "The help for `round` says that `ndigits` (the second argument) may be negative.\n",
    "What do you think will happen when it is? Try an example in the cell below."
   ]
  },
  {
   "cell_type": "code",
   "execution_count": 8,
   "metadata": {
    "id": "G6_vfswBzf5D"
   },
   "outputs": [
    {
     "data": {
      "text/plain": [
       "200.0"
      ]
     },
     "execution_count": 8,
     "metadata": {},
     "output_type": "execute_result"
    }
   ],
   "source": [
    "round(232.4243, -2)\n",
    "#It rounds the number to the closet multiple of 10^(-n-digits)و so by writing -2 as n-digit it rounds the number to a multiple of 100 (200)."
   ]
  },
  {
   "cell_type": "markdown",
   "metadata": {
    "id": "i3sKJk1jzf5D"
   },
   "source": [
    "# 7.\n",
    "> Write a function that evaluates the polynomial $${3x^2 − x + 2}$$"
   ]
  },
  {
   "cell_type": "code",
   "execution_count": 9,
   "metadata": {
    "id": "cKy7RJVTzf5E"
   },
   "outputs": [],
   "source": [
    "def polynomial(x):\n",
    "    return 3*x*x - x + 2"
   ]
  },
  {
   "cell_type": "markdown",
   "metadata": {
    "id": "HI8Nje1Jzf5E"
   },
   "source": [
    "# 8.\n",
    ">Complete the function below according to its docstring."
   ]
  },
  {
   "cell_type": "code",
   "execution_count": 10,
   "metadata": {
    "id": "4pDj20lbzf5E"
   },
   "outputs": [],
   "source": [
    "def select_second(L):\n",
    "    if len(L) < 2:\n",
    "        return None\n",
    "    else:\n",
    "        return L[1]"
   ]
  },
  {
   "cell_type": "markdown",
   "metadata": {
    "id": "uHty8trFzf5E"
   },
   "source": [
    "# 9.\n",
    ">We're using lists to record people who attended a class and what order they arrived in. For example, the following list represents a class with 7 students, in which 'Amirhossein' showed up first and 'Pedram' was the last to arrive:\n",
    "    \n",
    "> class_attendees = ['Amirhossein', 'Hadi', 'Fatemeh', 'Mahtab', 'Ali', 'Nasim', 'Pedram']\n",
    "\n",
    "> A student is considered 'fashionably late' if they arrived after at least half of the class's students. However, they must not be the very last student (that's taking it too far). In the above example, Ali and Nasim are the only students who were fashionably late.\n",
    "Complete the function below which takes a list of class attendees as well as a person, and tells us whether that person is fashionably late."
   ]
  },
  {
   "cell_type": "code",
   "execution_count": 11,
   "metadata": {
    "id": "8xOjqaTvzf5E"
   },
   "outputs": [],
   "source": [
    "def fashionably_late(arrivals, name):\n",
    "    \n",
    "    index = arrivals.index(name)\n",
    "    length = len(arrivals)\n",
    "    half = ceil(length/2)\n",
    "\n",
    "    if index >= half and index != length-1:\n",
    "        return True\n",
    "    else:\n",
    "        return False"
   ]
  },
  {
   "cell_type": "markdown",
   "metadata": {
    "id": "xYVP-8eWzf5E"
   },
   "source": [
    "# 10.\n",
    ">Complete the function below according to its docstring."
   ]
  },
  {
   "cell_type": "code",
   "execution_count": 12,
   "metadata": {
    "id": "HQ-mpu1zzf5E"
   },
   "outputs": [],
   "source": [
    "def has_lucky_number(nums):\n",
    "    for n in nums:\n",
    "        if n % 7 == 0:\n",
    "            return True\n",
    "    return False  "
   ]
  },
  {
   "cell_type": "markdown",
   "metadata": {
    "id": "tp4MIqyozf5E"
   },
   "source": [
    "# 11.\n",
    "\n",
    ">Complete the body of the function below according to its docstring."
   ]
  },
  {
   "cell_type": "code",
   "execution_count": 13,
   "metadata": {
    "id": "28PSD7eKzf5F"
   },
   "outputs": [],
   "source": [
    "def menu_is_boring(meals):\n",
    "    \n",
    "    for i in range(1,len(meals)):\n",
    "        if meals[i] == meals[i-1]:\n",
    "            return True\n",
    "    return False  "
   ]
  },
  {
   "cell_type": "markdown",
   "metadata": {
    "id": "WxphNvtzzf5F"
   },
   "source": [
    "# 12.\n",
    "\n",
    "> There is a saying that \"Data scientists spend 80% of their time cleaning data, and 20% of their time complaining about cleaning data.\" Let's see if you can write a function to help clean US zip code data. Given a string, it should return whether or not that string represents a valid zip code. For our purposes, a valid zip code is any string consisting of exactly 5 digits.\n",
    "\n",
    "HINT: `str` has a method that will be useful here. Use `help(str)` to review a list of string methods."
   ]
  },
  {
   "cell_type": "code",
   "execution_count": 14,
   "metadata": {
    "id": "BPjuuKfXzf5F"
   },
   "outputs": [],
   "source": [
    "def is_valid_zip(zip_code):\n",
    "    \n",
    "    if len(zip_code) == 5 and zip_code.isdigit():\n",
    "        return True\n",
    "    else:\n",
    "        return False"
   ]
  },
  {
   "cell_type": "markdown",
   "metadata": {
    "id": "CAB_4WFczf5F"
   },
   "source": [
    "# 13.\n",
    ">Write a function my_max(x,y) that returns the maximum of x and y. \n",
    "\n",
    ">Do not use the max function, but use if instead in following two ways:\n",
    "\n",
    ">> (a) Use both if and else.\n",
    "\n",
    ">> (b) Use if but not else (nor elif)."
   ]
  },
  {
   "cell_type": "code",
   "execution_count": 15,
   "metadata": {
    "id": "EdxovDduzf5F"
   },
   "outputs": [],
   "source": [
    "def my_max_a(x):\n",
    "    if x >= y:\n",
    "        return x\n",
    "    else:\n",
    "        return y"
   ]
  },
  {
   "cell_type": "code",
   "execution_count": 16,
   "metadata": {
    "id": "QbC8rsevzf5F"
   },
   "outputs": [],
   "source": [
    "def my_max_b(x):\n",
    "    if x >= y:\n",
    "        return x\n",
    "    return y"
   ]
  },
  {
   "cell_type": "markdown",
   "metadata": {
    "id": "SPGRkQKczf5F"
   },
   "source": [
    "# 14.  \n",
    "\n",
    "> Let i,j = 1,...,n\n",
    "\n",
    ">>(a) Generate a list with elements [i,j].\n",
    "\n",
    ">>(b) Generate a list with elements [i,j] with i < j\n",
    "\n",
    ">>(c) Generate a list with elements i + j with both i and j prime and i > j\n",
    "\n",
    "Use List comprehensions"
   ]
  },
  {
   "cell_type": "code",
   "execution_count": null,
   "metadata": {},
   "outputs": [],
   "source": [
    "# a)\n",
    "\n",
    "list_a = []\n",
    "for i in range(1,n+1):\n",
    "    for j in range(1,n+1):\n",
    "        list_a.append([i,j])   \n",
    "\n",
    "\n",
    "# b)\n",
    "\n",
    "list_b = []\n",
    "for j in range(1,n+1):\n",
    "    for i in range(1,j):\n",
    "        list_b.append([i,j]) \n",
    "\n",
    "\n",
    "# c)\n",
    "\n",
    "list_c = []\n",
    "prime_list = []\n",
    "\n",
    "def prime(num):\n",
    "    if num < 2:\n",
    "        return False\n",
    "    for i in range(2, int(num**0.5)+1):\n",
    "        if num % i == 0:\n",
    "            return False\n",
    "    return True\n",
    "\n",
    "\n",
    "for i in range(1, n+1):\n",
    "    if prime(i):\n",
    "        prime_list.append(i)\n",
    "\n",
    "for i in prime_list:\n",
    "    for j in prime_list:\n",
    "        if i > j:\n",
    "            list_c.append(i+j)"
   ]
  },
  {
   "cell_type": "markdown",
   "metadata": {
    "id": "1Nt-b71ozf5F"
   },
   "source": [
    "# 15. \n",
    "\n",
    ">Complete the body of the function below according to its docstring."
   ]
  },
  {
   "cell_type": "code",
   "execution_count": 20,
   "metadata": {
    "id": "h7dJzbXgzf5F"
   },
   "outputs": [],
   "source": [
    "def my_func():\n",
    "    result = []\n",
    "\n",
    "    for i in range(2000,3200+1):\n",
    "        if i%7==0 and i%5!=0:\n",
    "            result.append(i)\n",
    "    return result     "
   ]
  },
  {
   "cell_type": "markdown",
   "metadata": {
    "id": "4hCkNduIzf5F"
   },
   "source": [
    "# 16.\n",
    "\n",
    ">Write a program that accepts a sentence and calculate the number of letters and digits.\n",
    "Suppose the following input is supplied to the program:\n",
    "\n",
    "        hello world! 123\n",
    ">Then, the output should be:\n",
    "\n",
    ">>LETTERS 10\n",
    "\n",
    ">>DIGITS 3"
   ]
  },
  {
   "cell_type": "code",
   "execution_count": 21,
   "metadata": {
    "id": "zCF3Jcxrzf5G"
   },
   "outputs": [
    {
     "name": "stdout",
     "output_type": "stream",
     "text": [
      "hello world! 123\n",
      "LETTERS  10\n",
      "DIGITS 3\n"
     ]
    }
   ],
   "source": [
    "string = input(\"\")\n",
    "\n",
    "letter = 0\n",
    "digit = 0\n",
    "for char in string:\n",
    "    if char >= '1' and char <= '9':\n",
    "        digit += 1\n",
    "    elif (char >= 'A' and char <= 'Z') or (char >= 'a' and char <= 'z'):\n",
    "        letter += 1\n",
    "        \n",
    "print('LETTERS ',letter)\n",
    "print('DIGITS', digit)  "
   ]
  },
  {
   "cell_type": "markdown",
   "metadata": {
    "id": "SrFe49A3zf5G"
   },
   "source": [
    "# 17.\n",
    "Write a function to sort a list of tuples (name, age, height) by ascending order\n",
    "where name is string, age and height are numbers. The sort\n",
    "criteria is:\n",
    "\n",
    "* 1: Sort based on name;\n",
    "* 2: Then sort based on age;\n",
    "* 3: Then sort by score.\n",
    "\n",
    "The priority is that name > age > score.\n",
    "If the following list is given as input to the function:\n",
    ">[('Taha',19,80), ('Farhad',20,90), ('Farrokh',17,91), ('Farrokh',17,93), ('Fatemeh',21,85)]\n",
    "\n",
    "Then, the output of the program should be:\n",
    ">[('Farhad', '20', '90'), ('Farrokh', '17', '91'), ('Farrokh', '17', '93'), ('Fatemeh', '21', '85'), ('Taha', '19', '80')]"
   ]
  },
  {
   "cell_type": "code",
   "execution_count": null,
   "metadata": {
    "id": "ovUPqq9Tzf5G"
   },
   "outputs": [],
   "source": [
    "def sortTuple(inputList):\n",
    "    \n",
    "return sorted(inputList, key=lambda x: (x[0], str(x[1]), str(x[2])))"
   ]
  }
 ],
 "metadata": {
  "colab": {
   "provenance": []
  },
  "kernelspec": {
   "display_name": "Python 3",
   "language": "python",
   "name": "python3"
  },
  "language_info": {
   "codemirror_mode": {
    "name": "ipython",
    "version": 3
   },
   "file_extension": ".py",
   "mimetype": "text/x-python",
   "name": "python",
   "nbconvert_exporter": "python",
   "pygments_lexer": "ipython3",
   "version": "3.8.8"
  }
 },
 "nbformat": 4,
 "nbformat_minor": 1
}
